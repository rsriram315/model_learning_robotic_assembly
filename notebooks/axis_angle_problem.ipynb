{
 "metadata": {
  "language_info": {
   "codemirror_mode": {
    "name": "ipython",
    "version": 3
   },
   "file_extension": ".py",
   "mimetype": "text/x-python",
   "name": "python",
   "nbconvert_exporter": "python",
   "pygments_lexer": "ipython3",
   "version": "3.8.5-final"
  },
  "orig_nbformat": 2,
  "kernelspec": {
   "name": "python38564bitvenvvenv24f1a50be6b04235a613f7fbece8f789",
   "display_name": "Python 3.8.5 64-bit ('venv': venv)",
   "language": "python"
  }
 },
 "nbformat": 4,
 "nbformat_minor": 2,
 "cells": [
  {
   "cell_type": "code",
   "execution_count": 1,
   "metadata": {},
   "outputs": [],
   "source": [
    "import numpy as np\n",
    "from scipy.spatial.transform import Rotation as R"
   ]
  },
  {
   "cell_type": "code",
   "execution_count": 2,
   "metadata": {},
   "outputs": [],
   "source": [
    "def norm(vec):\n",
    "    vec = np.array(vec)\n",
    "    norm_vec = vec / np.sqrt(sum(vec**2))\n",
    "    return norm_vec\n",
    "\n",
    "\n",
    "def quaternion_to_axis_angle(q):\n",
    "    \"\"\"\n",
    "    transform quaternion to axis angel representation\n",
    "\n",
    "    Params:\n",
    "        q: quaternion with x, y, z, w\n",
    "    Return:\n",
    "        [axis_x, axis_y, axis_z, angle]\n",
    "    \"\"\"\n",
    "    # the quaternion is x, y, z, w\n",
    "    axis_angle = np.zeros(4)\n",
    "    axis_angle[3] = 2 * np.arccos(q[3])\n",
    "    sin_half_theta = np.sqrt(1.0 - q[3]**2)\n",
    "    axis_angle[0] = q[0] / sin_half_theta\n",
    "    axis_angle[1] = q[1] / sin_half_theta\n",
    "    axis_angle[2] = q[2] / sin_half_theta\n",
    "\n",
    "    # vector normalization\n",
    "    axis_angle[:3] = norm(axis_angle[:3])\n",
    "    return axis_angle\n",
    "\n",
    "\n",
    "def axis_angle_to_euler_vector(axis_angle):\n",
    "    \"\"\"\n",
    "    axis angle to euler vector, [theta * v_x, theta * v_y, theta * v_z]\n",
    "    \"\"\"\n",
    "    euler_vector = axis_angle[:3] * axis_angle[3]\n",
    "    return euler_vector\n",
    "\n",
    "\n",
    "def euler_vector_to_axis_angle(euler_vector):\n",
    "    \"\"\"\n",
    "    euler vector back to axis angle\n",
    "    \"\"\"\n",
    "    axis_angle = np.zeros(4)\n",
    "    axis_angle[3] = np.sqrt(np.sum(np.power(euler_vector, 2)))\n",
    "    axis_angle[:3] = euler_vector / axis_angle[3]\n",
    "    return axis_angle"
   ]
  },
  {
   "cell_type": "code",
   "execution_count": 16,
   "metadata": {},
   "outputs": [],
   "source": [
    "# theta = 180, because cos(theta/2) = 0\n",
    "# axis = (.5, .5, 0), after normalization (sqrt(2)/2, sqrt(2)/2, 0)\n",
    "key_rots = R.random(5, random_state=2342345)\n",
    "\n",
    "q = key_rots.as_quat()[4]\n",
    "r = R.from_quat(q)"
   ]
  },
  {
   "source": [
    "### scipy implementation"
   ],
   "cell_type": "markdown",
   "metadata": {}
  },
  {
   "cell_type": "code",
   "execution_count": 17,
   "metadata": {},
   "outputs": [
    {
     "output_type": "execute_result",
     "data": {
      "text/plain": [
       "array([-1.77541425,  0.23931706, -1.52603794])"
      ]
     },
     "metadata": {},
     "execution_count": 17
    }
   ],
   "source": [
    "r.as_rotvec()"
   ]
  },
  {
   "cell_type": "code",
   "execution_count": 21,
   "metadata": {},
   "outputs": [
    {
     "output_type": "execute_result",
     "data": {
      "text/plain": [
       "2.3533296023257484"
      ]
     },
     "metadata": {},
     "execution_count": 21
    }
   ],
   "source": [
    "np.sqrt(sum(r.as_rotvec()**2))"
   ]
  },
  {
   "source": [
    "### Own implementation"
   ],
   "cell_type": "markdown",
   "metadata": {}
  },
  {
   "cell_type": "code",
   "execution_count": 18,
   "metadata": {},
   "outputs": [
    {
     "output_type": "execute_result",
     "data": {
      "text/plain": [
       "array([ 2.96478735, -0.39963867,  2.5483506 ])"
      ]
     },
     "metadata": {},
     "execution_count": 18
    }
   ],
   "source": [
    "axis_angle = quaternion_to_axis_angle(q)\n",
    "euler_vec = axis_angle_to_euler_vector(axis_angle)\n",
    "euler_vec"
   ]
  },
  {
   "cell_type": "code",
   "execution_count": 19,
   "metadata": {},
   "outputs": [
    {
     "output_type": "execute_result",
     "data": {
      "text/plain": [
       "array([ 0.75442652, -0.10169296,  0.64845908,  3.9298557 ])"
      ]
     },
     "metadata": {},
     "execution_count": 19
    }
   ],
   "source": [
    "axis_angle"
   ]
  }
 ]
}